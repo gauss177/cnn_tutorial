{
 "cells": [
  {
   "cell_type": "code",
   "execution_count": null,
   "metadata": {
    "collapsed": true
   },
   "outputs": [],
   "source": [
    "# about autograd\n",
    "import torch\n",
    "from torch.autograd import Variable"
   ]
  },
  {
   "cell_type": "code",
   "execution_count": 41,
   "metadata": {
    "collapsed": false
   },
   "outputs": [
    {
     "name": "stdout",
     "output_type": "stream",
     "text": [
      "[1.0, 2.0, 3.0] [7.0]\n",
      "\n",
      " 1\n",
      " 2\n",
      " 3\n",
      "[torch.FloatTensor of size 3]\n",
      "\n"
     ]
    },
    {
     "data": {
      "text/plain": [
       "Variable containing:\n",
       " 0\n",
       " 0\n",
       " 0\n",
       "[torch.FloatTensor of size 3]"
      ]
     },
     "execution_count": 41,
     "metadata": {},
     "output_type": "execute_result"
    }
   ],
   "source": [
    "# normal use: loss = f(x), loss 是标量，通过backward，对所有依赖变量生成grad\n",
    "x = Variable(torch.Tensor([1, 2, 3]), requires_grad=True)\n",
    "y = x.dot(x)/2.0\n",
    "print x.data.tolist(), y.data.tolist()\n",
    "\n",
    "y.backward()\n",
    "print x.grad.data\n",
    "\n",
    "# 为下一次更新做准备，一般进行grad清零操作\n",
    "x.grad.zero_()"
   ]
  },
  {
   "cell_type": "code",
   "execution_count": 53,
   "metadata": {
    "collapsed": false
   },
   "outputs": [
    {
     "name": "stdout",
     "output_type": "stream",
     "text": [
      "Variable containing:\n",
      "  6\n",
      " 10\n",
      " 14\n",
      "[torch.FloatTensor of size 3]\n",
      " Variable containing:\n",
      "  6\n",
      " 10\n",
      " 14\n",
      "[torch.FloatTensor of size 3]\n",
      "\n"
     ]
    }
   ],
   "source": [
    "# 对于向量，也可以进行 backward，但是需要输入进入的梯度：即每个坐标的梯度\n",
    "x0 = Variable(torch.Tensor([1, 2, 3]), requires_grad=True)\n",
    "x1 = x0.add(x0.pow(2))\n",
    "x1.backward(torch.Tensor([2, 2, 2]))\n",
    "print x0.grad, (x0*2 + 1)*2"
   ]
  },
  {
   "cell_type": "code",
   "execution_count": 87,
   "metadata": {
    "collapsed": false
   },
   "outputs": [
    {
     "name": "stdout",
     "output_type": "stream",
     "text": [
      "Variable containing:\n",
      "  60\n",
      " 100\n",
      " 140\n",
      "[torch.FloatTensor of size 3]\n",
      "\n"
     ]
    }
   ],
   "source": [
    "# 进行register_hook: 改变梯度\n",
    "x0 = Variable(torch.Tensor([1, 2, 3]), requires_grad=True)\n",
    "# x1 = Variable(torch.Tensor([1, 2, 3]), requires_grad=True)\n",
    "x1 = x0.add(x0.pow(2))\n",
    "h = x0.register_hook(lambda x: x*10)\n",
    "x1.backward(torch.Tensor([2, 2, 2]))\n",
    "print x0.grad\n",
    "h.remove()"
   ]
  },
  {
   "cell_type": "code",
   "execution_count": null,
   "metadata": {
    "collapsed": true
   },
   "outputs": [],
   "source": [
    "# 可以对中间变量加入hook，但是注意会改变回流的梯度值，除非返回自身或者None\n",
    "print '----> no hook:'\n",
    "x0 = Variable(torch.Tensor([1, 2, 3]), requires_grad=True)\n",
    "x1 = x0.add(x0.pow(2))\n",
    "y = x1.sum()\n",
    "y.backward()\n",
    "print 'x1_grad = None: ', x1.grad\n",
    "print x0.grad"
   ]
  },
  {
   "cell_type": "code",
   "execution_count": 97,
   "metadata": {
    "collapsed": false
   },
   "outputs": [
    {
     "name": "stdout",
     "output_type": "stream",
     "text": [
      "-----> with hook to x1, print result, and return self\n",
      "Variable containing:\n",
      " 1\n",
      " 1\n",
      " 1\n",
      "[torch.FloatTensor of size 3]\n",
      "\n",
      "x1_grad = None:  None\n",
      "Variable containing:\n",
      " 3\n",
      " 5\n",
      " 7\n",
      "[torch.FloatTensor of size 3]\n",
      "\n"
     ]
    }
   ],
   "source": [
    "print '-----> with hook to x1, print result, and return self'\n",
    "grad_list = []\n",
    "def hook(grad):\n",
    "    print grad\n",
    "    return grad\n",
    "\n",
    "x0 = Variable(torch.Tensor([1, 2, 3]), requires_grad=True)\n",
    "x1 = x0.add(x0.pow(2))\n",
    "y = x1.sum()\n",
    "h = x1.register_hook(hook)\n",
    "y.backward()\n",
    "print 'x1_grad = None: ', x1.grad\n",
    "print x0.grad\n",
    "h.remove()"
   ]
  },
  {
   "cell_type": "code",
   "execution_count": 98,
   "metadata": {
    "collapsed": false
   },
   "outputs": [
    {
     "name": "stdout",
     "output_type": "stream",
     "text": [
      "-----> with hook to x1, print result, and return None is also ok\n",
      "Variable containing:\n",
      " 1\n",
      " 1\n",
      " 1\n",
      "[torch.FloatTensor of size 3]\n",
      "\n",
      "x1_grad = None:  None\n",
      "Variable containing:\n",
      " 3\n",
      " 5\n",
      " 7\n",
      "[torch.FloatTensor of size 3]\n",
      "\n"
     ]
    }
   ],
   "source": [
    "print '-----> with hook to x1, print result, and return None is also ok'\n",
    "grad_list = []\n",
    "def hook(grad):\n",
    "    print grad\n",
    "    return None\n",
    "\n",
    "x0 = Variable(torch.Tensor([1, 2, 3]), requires_grad=True)\n",
    "x1 = x0.add(x0.pow(2))\n",
    "y = x1.sum()\n",
    "h = x1.register_hook(hook)\n",
    "y.backward()\n",
    "print 'x1_grad = None: ', x1.grad\n",
    "print x0.grad\n",
    "h.remove()"
   ]
  },
  {
   "cell_type": "code",
   "execution_count": 99,
   "metadata": {
    "collapsed": false
   },
   "outputs": [
    {
     "name": "stdout",
     "output_type": "stream",
     "text": [
      "-----> with hook to x1, print result, and return None is also ok\n",
      "Variable containing:\n",
      " 1\n",
      " 1\n",
      " 1\n",
      "[torch.FloatTensor of size 3]\n",
      "\n",
      "x1_grad = None:  None\n",
      "Variable containing:\n",
      " 3\n",
      " 5\n",
      " 7\n",
      "[torch.FloatTensor of size 3]\n",
      "\n"
     ]
    }
   ],
   "source": [
    "print '-----> with hook to x1, print result, and return None is also ok'\n",
    "grad_list = []\n",
    "def hook(grad):\n",
    "    print grad\n",
    "    return None\n",
    "\n",
    "x0 = Variable(torch.Tensor([1, 2, 3]), requires_grad=True)\n",
    "x1 = x0.add(x0.pow(2))\n",
    "y = x1.sum()\n",
    "h = x1.register_hook(hook)\n",
    "y.backward()\n",
    "print 'x1_grad = None: ', x1.grad\n",
    "print x0.grad\n",
    "h.remove()"
   ]
  },
  {
   "cell_type": "code",
   "execution_count": 100,
   "metadata": {
    "collapsed": false
   },
   "outputs": [
    {
     "name": "stdout",
     "output_type": "stream",
     "text": [
      "-----> with hook to x1, print result, and return other things will change grad\n",
      "Variable containing:\n",
      " 1\n",
      " 1\n",
      " 1\n",
      "[torch.FloatTensor of size 3]\n",
      "\n",
      "x1_grad = None:  None\n",
      "Variable containing:\n",
      " 0\n",
      " 0\n",
      " 0\n",
      "[torch.FloatTensor of size 3]\n",
      "\n"
     ]
    }
   ],
   "source": [
    "print '-----> with hook to x1, print result, and return other things will change grad'\n",
    "grad_list = []\n",
    "def hook(grad):\n",
    "    print grad\n",
    "    return grad*0\n",
    "\n",
    "x0 = Variable(torch.Tensor([1, 2, 3]), requires_grad=True)\n",
    "x1 = x0.add(x0.pow(2))\n",
    "y = x1.sum()\n",
    "h = x1.register_hook(hook)\n",
    "y.backward()\n",
    "print 'x1_grad = None: ', x1.grad\n",
    "print x0.grad\n",
    "h.remove()"
   ]
  },
  {
   "cell_type": "code",
   "execution_count": 119,
   "metadata": {
    "collapsed": false
   },
   "outputs": [
    {
     "name": "stdout",
     "output_type": "stream",
     "text": [
      "Variable containing:\n",
      " 3\n",
      " 5\n",
      " 7\n",
      "[torch.FloatTensor of size 3]\n",
      "\n"
     ]
    }
   ],
   "source": [
    "# self defined function: define forward and backward\n",
    "from torch.autograd import Function\n",
    "class self_define_func(Function):\n",
    "    def forward(self, input_tensor):\n",
    "        self.save_for_backward(input_tensor)\n",
    "        return input_tensor.pow(2) + input_tensor\n",
    "    \n",
    "    def backward(self, grad_out):\n",
    "        save_res, = self.saved_tensors\n",
    "        return grad_out.clone() * (2*save_res+1)\n",
    "\n",
    "self_func = self_define_func()\n",
    "x0 = Variable(torch.Tensor([1, 2, 3]), requires_grad=True)\n",
    "x1 = self_func(x0)\n",
    "y = x1.sum()\n",
    "y.backward()\n",
    "print x0.grad"
   ]
  },
  {
   "cell_type": "code",
   "execution_count": 60,
   "metadata": {
    "collapsed": true
   },
   "outputs": [],
   "source": [
    "import matplotlib.pyplot as plt\n",
    "def plot_func(func, xmin=-2, xmax=2):\n",
    "    x = np.arange(xmin, xmax, 0.01)\n",
    "    y = np.vectorize(func)(x)\n",
    "    plt.plot(x, y)\n",
    "    \n",
    "def sigmoid(x):\n",
    "    return 1.0/(1.0+np.exp(-x))"
   ]
  }
 ],
 "metadata": {
  "kernelspec": {
   "display_name": "Python 2",
   "language": "python",
   "name": "python2"
  },
  "language_info": {
   "codemirror_mode": {
    "name": "ipython",
    "version": 2.0
   },
   "file_extension": ".py",
   "mimetype": "text/x-python",
   "name": "python",
   "nbconvert_exporter": "python",
   "pygments_lexer": "ipython2",
   "version": "2.7.9"
  }
 },
 "nbformat": 4,
 "nbformat_minor": 0
}